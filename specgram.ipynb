{
 "cells": [
  {
   "cell_type": "code",
   "execution_count": 102,
   "metadata": {},
   "outputs": [],
   "source": [
    "import wave\n",
    "import numpy as np\n",
    "import matplotlib.pyplot as plt\n",
    "import matplotlib.mlab as mlab\n",
    "from scipy import signal\n",
    "import seaborn as sns\n",
    "from scipy.io import wavfile\n",
    "import pylab\n",
    "import matplotlib.mlab as ml\n",
    "from scipy.fftpack import fft\n",
    "\n",
    "%matplotlib tk"
   ]
  },
  {
   "cell_type": "code",
   "execution_count": 127,
   "metadata": {},
   "outputs": [],
   "source": [
    "DEFAULT_FS = 44100\n",
    "DEFAULT_WINDOW_SIZE = 4096\n",
    "DEFAULT_OVERLAP_RATIO = 0.5\n",
    "DEFAULT_FAN_VALUE = 15\n",
    "DEFAULT_AMP_MIN = 10\n",
    "\n",
    "def graph_spectrogram(sound_info, frame_rate):\n",
    "    pylab.figure(num=None, figsize=(19, 12))\n",
    "    pylab.subplot(111)\n",
    "    pylab.specgram(sound_info, Fs=frame_rate)\n",
    "    pylab.savefig('spectrogram.png')\n",
    "\n",
    "\"\"\"\n",
    "Function that converts a byte string into a numpy array\n",
    "\"\"\"\n",
    "def _wav2array(nchannels, sampwidth, data):\n",
    "    num_samples, remainder = divmod(len(data), sampwidth * nchannels)\n",
    "    if remainder > 0:\n",
    "        raise ValueError('The length of data is not a multiple of '\n",
    "                         'sampwidth * num_channels.')\n",
    "    if sampwidth > 4:\n",
    "        raise ValueError(\"sampwidth must not be greater than 4.\")\n",
    "\n",
    "    if sampwidth == 3:\n",
    "        a = np.empty((num_samples, nchannels, 4), dtype=np.uint8)\n",
    "        raw_bytes = np.fromstring(data, dtype=np.uint8)\n",
    "        a[:, :, :sampwidth] = raw_bytes.reshape(-1, nchannels, sampwidth)\n",
    "        a[:, :, sampwidth:] = (a[:, :, sampwidth - 1:sampwidth] >> 7) * 255\n",
    "        result = a.view('<i4').reshape(a.shape[:-1])\n",
    "    else:\n",
    "        dt_char = 'u' if sampwidth == 1 else 'i'\n",
    "        a = np.fromstring(data, dtype='<%s%d' % (dt_char, sampwidth))\n",
    "        result = a.reshape(-1, nchannels)\n",
    "    return result\n",
    "\n",
    "\"\"\"\n",
    "Function to convert stereo to mono\n",
    "\"\"\"\n",
    "\n",
    "def stereo2mono(audiodata, nchannels):\n",
    "#     if nchannels==1:\n",
    "#         return audiodata.astype(int)\n",
    "    audiodata = audiodata.astype(float)\n",
    "    d = audiodata.sum(axis=1) / 2\n",
    "    return d.astype(int)\n",
    "\n",
    "\"\"\"\n",
    "Class containing details of the wav file that has been read.\n",
    "Sample use:\n",
    "    song_x = song(\"abc.wav\")\n",
    "\"\"\"\n",
    "class song:\n",
    "    def __init__(self, file):\n",
    "        wav = wave.open(file)\n",
    "        self.title = file.split(\"/\")[-1]\n",
    "        self.rate = wav.getframerate()\n",
    "        self.nchannels = wav.getnchannels()\n",
    "        self.sampwidth = wav.getsampwidth()\n",
    "        self.nframes = wav.getnframes()\n",
    "        self.data = wav.readframes(self.nframes)\n",
    "        self.array = stereo2mono(_wav2array(self.nchannels, self.sampwidth, self.data), self.nchannels)\n",
    "        wav.close()\n",
    "    def spectrogram(self):\n",
    "        self.specgram, self.frequencies, self.times = ml.specgram(self.array, Fs=self.rate, NFFT = 4096, window = ml.window_hanning, noverlap = int(4096 * 0.5))\n",
    "        self.specgram = 10*np.log10(self.specgram)\n",
    "        self.specgram[self.specgram==-np.inf] = 0\n",
    "        self.specgram = (1/20)*(np.exp(self.specgram))\n",
    "        self.specgram[self.specgram<100000000000000000] = 100000000000000000\n",
    "        self.specgram[self.specgram>10000000000000000000] = 10000000000000000000\n",
    "        fig, ax = plt.subplots()\n",
    "        ax.imshow(self.specgram)\n",
    "        ax.set_xlabel('Time')\n",
    "        ax.set_ylabel('Frequency')\n",
    "        ax.set_title(\"Spectrogram of \"+self.title)\n",
    "        plt.gca().invert_yaxis()\n",
    "        plt.show()"
   ]
  },
  {
   "cell_type": "code",
   "execution_count": 128,
   "metadata": {
    "scrolled": true
   },
   "outputs": [
    {
     "name": "stderr",
     "output_type": "stream",
     "text": [
      "/home/kavya/anaconda3/lib/python3.6/site-packages/ipykernel_launcher.py:32: DeprecationWarning: The binary mode of fromstring is deprecated, as it behaves surprisingly on unicode inputs. Use frombuffer instead\n"
     ]
    }
   ],
   "source": [
    "ricky = song(\"./Songs_Wav/Ricky Martin - Livin La Vida Loca.wav\")\n",
    "total = song(\"./Songs_Wav/Total_Breakdown.wav\")"
   ]
  },
  {
   "cell_type": "code",
   "execution_count": 129,
   "metadata": {},
   "outputs": [],
   "source": [
    "#ricky.spectrogram()"
   ]
  },
  {
   "cell_type": "code",
   "execution_count": 130,
   "metadata": {},
   "outputs": [],
   "source": [
    "total.spectrogram()"
   ]
  },
  {
   "cell_type": "code",
   "execution_count": 71,
   "metadata": {},
   "outputs": [],
   "source": [
    "total_fft = fft(total.array)"
   ]
  },
  {
   "cell_type": "code",
   "execution_count": 72,
   "metadata": {},
   "outputs": [],
   "source": [
    "total_fft = total_fft[:int(total_fft.shape[0]/2)]"
   ]
  },
  {
   "cell_type": "code",
   "execution_count": 73,
   "metadata": {},
   "outputs": [
    {
     "data": {
      "text/plain": [
       "array([ 1.88920807e+08+0.00000000e+00j, -6.42702782e+07-1.35310323e+07j,\n",
       "        2.99235363e+06+2.25322233e+07j, ...,\n",
       "       -3.61464246e+04+2.64443156e+04j,  5.37419201e+03-9.95322661e+02j,\n",
       "       -1.17335520e+04-2.91908034e+04j])"
      ]
     },
     "execution_count": 73,
     "metadata": {},
     "output_type": "execute_result"
    }
   ],
   "source": [
    "total_fft"
   ]
  },
  {
   "cell_type": "code",
   "execution_count": 32,
   "metadata": {
    "scrolled": true
   },
   "outputs": [
    {
     "data": {
      "text/plain": [
       "1.0"
      ]
     },
     "execution_count": 32,
     "metadata": {},
     "output_type": "execute_result"
    }
   ],
   "source": [
    "44100/44100"
   ]
  },
  {
   "cell_type": "code",
   "execution_count": 22,
   "metadata": {},
   "outputs": [
    {
     "data": {
      "text/plain": [
       "6127872"
      ]
     },
     "execution_count": 22,
     "metadata": {},
     "output_type": "execute_result"
    }
   ],
   "source": [
    "total_fft.shape[0]*2"
   ]
  },
  {
   "cell_type": "code",
   "execution_count": 29,
   "metadata": {},
   "outputs": [
    {
     "data": {
      "text/plain": [
       "array([1.88920807e+08, 6.56792014e+07, 2.27300521e+07, ...,\n",
       "       4.47868936e+04, 5.46558387e+03, 3.14607572e+04])"
      ]
     },
     "execution_count": 29,
     "metadata": {},
     "output_type": "execute_result"
    }
   ],
   "source": [
    "np.abs(total_fft)"
   ]
  },
  {
   "cell_type": "code",
   "execution_count": 96,
   "metadata": {},
   "outputs": [
    {
     "data": {
      "text/plain": [
       "array([0.00000000e+00, 1.07666016e+01, 2.15332031e+01, ...,\n",
       "       2.20284668e+04, 2.20392334e+04, 2.20500000e+04])"
      ]
     },
     "execution_count": 96,
     "metadata": {},
     "output_type": "execute_result"
    }
   ],
   "source": [
    "total.frequencies"
   ]
  },
  {
   "cell_type": "code",
   "execution_count": 114,
   "metadata": {},
   "outputs": [],
   "source": [
    "total.specgram[total.specgram<100000000000] = 100000000000"
   ]
  },
  {
   "cell_type": "code",
   "execution_count": 87,
   "metadata": {},
   "outputs": [
    {
     "data": {
      "text/plain": [
       "9.996097629606325e+19"
      ]
     },
     "execution_count": 87,
     "metadata": {},
     "output_type": "execute_result"
    }
   ],
   "source": [
    "max((1/20)*np.exp(total.specgram[:1][0]))"
   ]
  },
  {
   "cell_type": "code",
   "execution_count": 108,
   "metadata": {},
   "outputs": [
    {
     "data": {
      "text/plain": [
       "(2049, 2991)"
      ]
     },
     "execution_count": 108,
     "metadata": {},
     "output_type": "execute_result"
    }
   ],
   "source": [
    "total.specgram.shape"
   ]
  },
  {
   "cell_type": "code",
   "execution_count": 109,
   "metadata": {},
   "outputs": [
    {
     "data": {
      "text/plain": [
       "6128559"
      ]
     },
     "execution_count": 109,
     "metadata": {},
     "output_type": "execute_result"
    }
   ],
   "source": [
    "2049*2991"
   ]
  },
  {
   "cell_type": "code",
   "execution_count": null,
   "metadata": {},
   "outputs": [],
   "source": []
  }
 ],
 "metadata": {
  "kernelspec": {
   "display_name": "Python 3",
   "language": "python",
   "name": "python3"
  },
  "language_info": {
   "codemirror_mode": {
    "name": "ipython",
    "version": 3
   },
   "file_extension": ".py",
   "mimetype": "text/x-python",
   "name": "python",
   "nbconvert_exporter": "python",
   "pygments_lexer": "ipython3",
   "version": "3.6.5"
  }
 },
 "nbformat": 4,
 "nbformat_minor": 2
}
